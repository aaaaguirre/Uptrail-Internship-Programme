{
  "metadata": {
    "kernelspec": {
      "name": "python",
      "display_name": "Python (Pyodide)",
      "language": "python"
    },
    "language_info": {
      "codemirror_mode": {
        "name": "python",
        "version": 3
      },
      "file_extension": ".py",
      "mimetype": "text/x-python",
      "name": "python",
      "nbconvert_exporter": "python",
      "pygments_lexer": "ipython3",
      "version": "3.8"
    }
  },
  "nbformat_minor": 5,
  "nbformat": 4,
  "cells": [
    {
      "id": "ed337a44-842d-46ad-ba75-8394f25e8191",
      "cell_type": "markdown",
      "source": "**Week 1 – Customer Sign-Up Behaviour & Data Quality Audit – Andrea Aguirre**",
      "metadata": {}
    },
    {
      "id": "5c562f92-7230-4aed-86e1-cdee9c8bf512",
      "cell_type": "markdown",
      "source": "Task 1. Load & Clean the data",
      "metadata": {}
    },
    {
      "id": "a34d14ff-0a41-4ece-b455-38e2f5a19103",
      "cell_type": "code",
      "source": "# Identify missing values, data types, and column structure\nimport pandas as pd\n\n# Loading dataset\nfileName = 'customer_signups.csv'\ndata = pd.read_csv(fileName)\nprint(data)\n\nprint(\"\\n\\nData types\")\n# Checking types\nprint(data.dtypes)\n\nprint(\"\\n\\nMissing data\")\n# Detecting missing data\nprint(data.isnull().sum())\n\nprint(\"\\n\\nData structure\")\n# Checking structure\ndata.info()",
      "metadata": {
        "trusted": true
      },
      "outputs": [
        {
          "name": "stdout",
          "output_type": "stream",
          "text": "    customer_id                name                  email signup_date  \\\n0     CUST00000       Joshua Bryant                    NaN         NaN   \n1     CUST00001      Nicole Stewart    nicole1@example.com    02-01-24   \n2     CUST00002        Rachel Allen    rachel2@example.com    03-01-24   \n3     CUST00003     Zachary Sanchez   zachary3@mailhub.org    04-01-24   \n4     CUST00004                 NaN   matthew4@mailhub.org    05-01-24   \n..          ...                 ...                    ...         ...   \n295   CUST00295          Gary Smith     gary95@example.com    22-10-24   \n296   CUST00296     Anthony Roberts  anthony96@mailhub.org    23-10-24   \n297   CUST00297  Timothy Mclaughlin                    NaN    24-10-24   \n298   CUST00298     Justin Mcintyre   justin98@mailhub.org    25-10-24   \n299   CUST00299   Mr. Bruce Bridges      mr.99@example.com    26-10-24   \n\n        source   region plan_selected marketing_opt_in age      gender  \n0    Instagram      NaN         basic               No  34      Female  \n1     LinkedIn     West         basic              Yes  29        Male  \n2       Google    North       PREMIUM              Yes  34  Non-Binary  \n3      YouTube      NaN           Pro               No  40        Male  \n4     LinkedIn     West       Premium               No  25       Other  \n..         ...      ...           ...              ...  ..         ...  \n295     Google     West       PREMIUM              Yes  40         NaN  \n296     Google  Central         Basic              Yes  25      Female  \n297  Instagram     West         Basic              Yes  60         NaN  \n298    YouTube    South       Premium               No  53        male  \n299        NaN    North       Premium              Yes  29        Male  \n\n[300 rows x 10 columns]\n\n\nData types\ncustomer_id         object\nname                object\nemail               object\nsignup_date         object\nsource              object\nregion              object\nplan_selected       object\nmarketing_opt_in    object\nage                 object\ngender              object\ndtype: object\n\n\nMissing data\ncustomer_id          2\nname                 9\nemail               34\nsignup_date          2\nsource               9\nregion              30\nplan_selected        8\nmarketing_opt_in    10\nage                 12\ngender               8\ndtype: int64\n\n\nData structure\n<class 'pandas.core.frame.DataFrame'>\nRangeIndex: 300 entries, 0 to 299\nData columns (total 10 columns):\n #   Column            Non-Null Count  Dtype \n---  ------            --------------  ----- \n 0   customer_id       298 non-null    object\n 1   name              291 non-null    object\n 2   email             266 non-null    object\n 3   signup_date       298 non-null    object\n 4   source            291 non-null    object\n 5   region            270 non-null    object\n 6   plan_selected     292 non-null    object\n 7   marketing_opt_in  290 non-null    object\n 8   age               288 non-null    object\n 9   gender            292 non-null    object\ndtypes: object(10)\nmemory usage: 11.8+ KB\n"
        }
      ],
      "execution_count": 133
    },
    {
      "id": "7f156b82-10cc-4ff0-9f1f-436f3682854d",
      "cell_type": "code",
      "source": "# Convert signup_date to datetime\ndata['signup_date'] = pd.to_datetime(data['signup_date'])\n# Output\nprint(data['signup_date'])",
      "metadata": {
        "trusted": true
      },
      "outputs": [
        {
          "name": "stdout",
          "output_type": "stream",
          "text": "0            NaT\n1     2024-02-01\n2     2024-03-01\n3     2024-04-01\n4     2024-05-01\n         ...    \n295   2024-10-22\n296   2024-10-23\n297   2024-10-24\n298   2024-10-25\n299   2024-10-26\nName: signup_date, Length: 300, dtype: datetime64[ns]\n"
        }
      ],
      "execution_count": 121
    },
    {
      "id": "20873709-4b4d-463a-9441-319a3150f040",
      "cell_type": "code",
      "source": "# Standardise inconsistent text values (plan_selected, gender, etc.)\ndata['plan_selected'] = data['plan_selected'].astype(str).str.lower().str.strip().replace({\n    'pro': 'Pro', \n    'basic': 'Basic',\n    'PREMIUM': 'Premium'\n})\ndata['plan_selected'] = data['plan_selected'].str.capitalize()\n\n# For gender column\ndata['gender'] = data['gender'].astype(str).str.lower().str.strip().replace({\n    'MALE': 'Male', \n    'FEMALE': 'Female', \n    'male': 'Male', \n    'female': 'Female'\n})\ndata['gender'] = data['gender'].str.capitalize()\n\n# For 'marketing_opt_in'\ndata['marketing_opt_in'] = data['marketing_opt_in'].astype(str).str.lower().str.strip().replace({\n    'Nil': 'None',\n})\ndata['marketing_opt_in'] = data['marketing_opt_in'].str.capitalize()\n# Output\nprint(data['plan_selected'])\nprint(data['gender'])\nprint(data['marketing_opt_in'])",
      "metadata": {
        "trusted": true
      },
      "outputs": [
        {
          "name": "stdout",
          "output_type": "stream",
          "text": "0        Basic\n1        Basic\n2      Premium\n3          Pro\n4      Premium\n        ...   \n295    Premium\n296      Basic\n297      Basic\n298    Premium\n299    Premium\nName: plan_selected, Length: 300, dtype: object\n0          Female\n1            Male\n2      Non-binary\n3            Male\n4           Other\n          ...    \n295           Nan\n296        Female\n297           Nan\n298          Male\n299          Male\nName: gender, Length: 300, dtype: object\n0       No\n1      Yes\n2      Yes\n3       No\n4       No\n      ... \n295    Yes\n296    Yes\n297    Yes\n298     No\n299    Yes\nName: marketing_opt_in, Length: 300, dtype: object\n"
        }
      ],
      "execution_count": 122
    },
    {
      "id": "f53598e7-69c6-461d-bab8-441ee609f5a2",
      "cell_type": "code",
      "source": "# Remove duplicate rows based on customer_id \ndata_before = data.shape[0]\ndata = data.drop_duplicates(subset='customer_id')\ndata_no_dupes = data_before- data.shape[0]\nprint(data_no_dupes)",
      "metadata": {
        "trusted": true
      },
      "outputs": [
        {
          "name": "stdout",
          "output_type": "stream",
          "text": "1\n"
        }
      ],
      "execution_count": 123
    },
    {
      "id": "a47f09cb-a689-4c92-9c75-a508769bcf57",
      "cell_type": "code",
      "source": "# Handle missing values (e.g., region, email, age) \ndata_filled = data.copy()\ndata_filled['region'] = data_filled['region'].fillna('Unknown')\ndata_filled['age'] = pd.to_numeric(data_filled['age'], errors='coerce')\ndata_filled['age'] = data_filled['age'].fillna(data_filled['age'].median())\ndata_filled = data_filled.dropna(subset=['email'])\n\ndata_dropped = data.copy()\ndata_dropped['age'] = pd.to_numeric(data_dropped['age'], errors='coerce')\ndata_dropped = data_dropped.dropna()\n\ndata_interp = data.copy()\ndata_interp['age'] = pd.to_numeric(data_interp['age'], errors='coerce')\n\n# Infer better dtypes before interpolation (fixes FutureWarning)\ndata_interp = data_interp.infer_objects()\n\n# Interpolate only the 'age' column to avoid PeriodArray error\ndata_interp['age'] = data_interp['age'].interpolate()\n\nprint(\"Replaced:\\n\", data_filled)\nprint(\"Removed:\\n\", data_dropped)\nprint(\"Interpolate:\\n\", data_interp)",
      "metadata": {
        "trusted": true
      },
      "outputs": [
        {
          "name": "stdout",
          "output_type": "stream",
          "text": "Replaced:\n     customer_id                name                  email signup_date  \\\n1     CUST00001      Nicole Stewart    nicole1@example.com  2024-02-01   \n2     CUST00002        Rachel Allen    rachel2@example.com  2024-03-01   \n3     CUST00003     Zachary Sanchez   zachary3@mailhub.org  2024-04-01   \n4     CUST00004                 NaN   matthew4@mailhub.org  2024-05-01   \n5     CUST00005       John Gonzales      john5@mailhub.org  2024-06-01   \n..          ...                 ...                    ...         ...   \n294   CUST00294  Mrs. Jessica Smith     mrs.94@example.com  2024-10-21   \n295   CUST00295          Gary Smith     gary95@example.com  2024-10-22   \n296   CUST00296     Anthony Roberts  anthony96@mailhub.org  2024-10-23   \n298   CUST00298     Justin Mcintyre   justin98@mailhub.org  2024-10-25   \n299   CUST00299   Mr. Bruce Bridges      mr.99@example.com  2024-10-26   \n\n       source   region plan_selected marketing_opt_in   age      gender  \n1    LinkedIn     West         Basic              Yes  29.0        Male  \n2      Google    North       Premium              Yes  34.0  Non-binary  \n3     YouTube  Unknown           Pro               No  40.0        Male  \n4    LinkedIn     West       Premium               No  25.0       Other  \n5    Facebook    South       Premium               No  34.0       Other  \n..        ...      ...           ...              ...   ...         ...  \n294    Google    South           Pro              Yes  29.0       Other  \n295    Google     West       Premium              Yes  40.0         Nan  \n296    Google  Central         Basic              Yes  25.0      Female  \n298   YouTube    South       Premium               No  53.0        Male  \n299       NaN    North       Premium              Yes  29.0        Male  \n\n[265 rows x 10 columns]\nRemoved:\n     customer_id                name                   email signup_date  \\\n1     CUST00001      Nicole Stewart     nicole1@example.com  2024-02-01   \n2     CUST00002        Rachel Allen     rachel2@example.com  2024-03-01   \n5     CUST00005       John Gonzales       john5@mailhub.org  2024-06-01   \n6     CUST00006       Crystal Mason    crystal6@mailhub.org  2024-07-01   \n7     CUST00007      Michael Bailey    michael7@mailhub.org  2024-08-01   \n..          ...                 ...                     ...         ...   \n293   CUST00293      Yvonne Harding  yvonne93@inboxmail.net  2024-10-20   \n294   CUST00294  Mrs. Jessica Smith      mrs.94@example.com  2024-10-21   \n295   CUST00295          Gary Smith      gary95@example.com  2024-10-22   \n296   CUST00296     Anthony Roberts   anthony96@mailhub.org  2024-10-23   \n298   CUST00298     Justin Mcintyre    justin98@mailhub.org  2024-10-25   \n\n       source   region plan_selected marketing_opt_in   age      gender  \n1    LinkedIn     West         Basic              Yes  29.0        Male  \n2      Google    North       Premium              Yes  34.0  Non-binary  \n5    Facebook    South       Premium               No  34.0       Other  \n6     YouTube    North   Unknownplan              Yes  40.0        Male  \n7     YouTube  Central           Pro              Yes  60.0       Other  \n..        ...      ...           ...              ...   ...         ...  \n293    Google  Central           Pro              Yes  34.0        Male  \n294    Google    South           Pro              Yes  29.0       Other  \n295    Google     West       Premium              Yes  40.0         Nan  \n296    Google  Central         Basic              Yes  25.0      Female  \n298   YouTube    South       Premium               No  53.0        Male  \n\n[205 rows x 10 columns]\nInterpolate:\n     customer_id                name                  email signup_date  \\\n0     CUST00000       Joshua Bryant                    NaN         NaT   \n1     CUST00001      Nicole Stewart    nicole1@example.com  2024-02-01   \n2     CUST00002        Rachel Allen    rachel2@example.com  2024-03-01   \n3     CUST00003     Zachary Sanchez   zachary3@mailhub.org  2024-04-01   \n4     CUST00004                 NaN   matthew4@mailhub.org  2024-05-01   \n..          ...                 ...                    ...         ...   \n295   CUST00295          Gary Smith     gary95@example.com  2024-10-22   \n296   CUST00296     Anthony Roberts  anthony96@mailhub.org  2024-10-23   \n297   CUST00297  Timothy Mclaughlin                    NaN  2024-10-24   \n298   CUST00298     Justin Mcintyre   justin98@mailhub.org  2024-10-25   \n299   CUST00299   Mr. Bruce Bridges      mr.99@example.com  2024-10-26   \n\n        source   region plan_selected marketing_opt_in   age      gender  \n0    Instagram      NaN         Basic               No  34.0      Female  \n1     LinkedIn     West         Basic              Yes  29.0        Male  \n2       Google    North       Premium              Yes  34.0  Non-binary  \n3      YouTube      NaN           Pro               No  40.0        Male  \n4     LinkedIn     West       Premium               No  25.0       Other  \n..         ...      ...           ...              ...   ...         ...  \n295     Google     West       Premium              Yes  40.0         Nan  \n296     Google  Central         Basic              Yes  25.0      Female  \n297  Instagram     West         Basic              Yes  60.0         Nan  \n298    YouTube    South       Premium               No  53.0        Male  \n299        NaN    North       Premium              Yes  29.0        Male  \n\n[299 rows x 10 columns]\n"
        }
      ],
      "execution_count": 124
    },
    {
      "id": "c1cd2bf2-f190-4fdb-b6da-c4e0f4c718b4",
      "cell_type": "markdown",
      "source": "Task 2. Data Quality Summary",
      "metadata": {}
    },
    {
      "id": "38654543-2427-456a-8d44-3c0b113ce605",
      "cell_type": "code",
      "source": "# Count of missing values per column \nmissing_count = data.isnull().sum()\nprint(\"Missing Values:\\n\", missing_count)",
      "metadata": {
        "trusted": true
      },
      "outputs": [
        {
          "name": "stdout",
          "output_type": "stream",
          "text": "Missing Values:\n customer_id          1\nname                 9\nemail               34\nsignup_date          6\nsource               9\nregion              30\nplan_selected        0\nmarketing_opt_in     0\nage                 12\ngender               0\ndtype: int64\n"
        }
      ],
      "execution_count": 125
    },
    {
      "id": "fb13398f-b107-4bd7-9403-511a8da0db76",
      "cell_type": "code",
      "source": "# % of missing values \nmissing_percent = data.isnull().mean() * 100\nprint(\"\\nMissing Values (%):\\n\", missing_percent)",
      "metadata": {
        "trusted": true
      },
      "outputs": [
        {
          "name": "stdout",
          "output_type": "stream",
          "text": "\nMissing Values (%):\n customer_id          0.334448\nname                 3.010033\nemail               11.371237\nsignup_date          2.006689\nsource               3.010033\nregion              10.033445\nplan_selected        0.000000\nmarketing_opt_in     0.000000\nage                  4.013378\ngender               0.000000\ndtype: float64\n"
        }
      ],
      "execution_count": 126
    },
    {
      "id": "c9e5e86c-f957-4108-a14c-e39005929997",
      "cell_type": "code",
      "source": "# Number of duplicates removed \nprint(\"\\nDuplicates removed\", data_no_dupes)",
      "metadata": {
        "trusted": true
      },
      "outputs": [
        {
          "name": "stdout",
          "output_type": "stream",
          "text": "\nDuplicates removed 1\n"
        }
      ],
      "execution_count": 127
    },
    {
      "id": "2b5f8301-8e7b-4cc3-9d49-565022c5026a",
      "cell_type": "code",
      "source": "# Mention inconsistent category values corrected (e.g., PRO → Pro)\nprint(\"\\nCorrected categories:\")\nprint(\"plan_selected: 'pro' to 'Pro', 'basic' to 'Basic'\")\nprint(\"gender: 'MALE'/'male' to 'Male', 'FEMALE'/'female' to 'Female'\")\nprint(\"marketing_opt_in: 'Nil' to 'None', 'yes' to 'Yes', 'no' to 'No'\")",
      "metadata": {
        "trusted": true
      },
      "outputs": [
        {
          "name": "stdout",
          "output_type": "stream",
          "text": "\nCorrected categories:\nplan_selected: 'pro' to 'Pro', 'basic' to 'Basic'\ngender: 'MALE'/'male' to 'Male', 'FEMALE'/'female' to 'Female'\nmarketing_opt_in: 'Nil' to 'None', 'yes' to 'Yes', 'no' to 'No'\n"
        }
      ],
      "execution_count": 128
    },
    {
      "id": "80c7e14d-935e-4844-b9eb-062b1606f4cd",
      "cell_type": "markdown",
      "source": "Task 3. Summary Outputs",
      "metadata": {}
    },
    {
      "id": "af2ba2e5-2076-4b67-9bf9-09396d249c69",
      "cell_type": "code",
      "source": "# Sign-ups per week\n\n# Making sure that signup_date is datetime\ndata['signup_date'] = pd.to_datetime(data['signup_date'])\n\n# Extracting to a week period to count how many customers joined in each week\ndata['signup_week'] = data['signup_date'].dt.to_period('W')\nsignups_per_week = data.groupby('signup_week')['customer_id'].count()\n\n# Output\nprint(\"\\nSign-ups per week by signup_date):\\n\", signups_per_week)",
      "metadata": {
        "trusted": true
      },
      "outputs": [
        {
          "name": "stdout",
          "output_type": "stream",
          "text": "\nSign-ups per week by signup_date):\n signup_week\n2024-01-01/2024-01-07    6\n2024-01-08/2024-01-14    5\n2024-01-15/2024-01-21    7\n2024-01-22/2024-01-28    7\n2024-01-29/2024-02-04    8\n2024-02-05/2024-02-11    6\n2024-02-12/2024-02-18    6\n2024-02-19/2024-02-25    7\n2024-02-26/2024-03-03    7\n2024-03-04/2024-03-10    7\n2024-03-11/2024-03-17    5\n2024-03-18/2024-03-24    6\n2024-03-25/2024-03-31    6\n2024-04-01/2024-04-07    7\n2024-04-08/2024-04-14    5\n2024-04-15/2024-04-21    7\n2024-04-22/2024-04-28    7\n2024-04-29/2024-05-05    6\n2024-05-06/2024-05-12    4\n2024-05-13/2024-05-19    7\n2024-05-20/2024-05-26    7\n2024-05-27/2024-06-02    7\n2024-06-03/2024-06-09    7\n2024-06-10/2024-06-16    5\n2024-06-17/2024-06-23    7\n2024-06-24/2024-06-30    7\n2024-07-01/2024-07-07    7\n2024-07-08/2024-07-14    5\n2024-07-15/2024-07-21    6\n2024-07-22/2024-07-28    7\n2024-07-29/2024-08-04    7\n2024-08-05/2024-08-11    5\n2024-08-12/2024-08-18    6\n2024-08-19/2024-08-25    7\n2024-08-26/2024-09-01    7\n2024-09-02/2024-09-08    7\n2024-09-09/2024-09-15    5\n2024-09-16/2024-09-22    7\n2024-09-23/2024-09-29    7\n2024-09-30/2024-10-06    6\n2024-10-07/2024-10-13    5\n2024-10-14/2024-10-20    6\n2024-10-21/2024-10-27    6\n2024-10-28/2024-11-03    3\n2024-11-04/2024-11-10    7\n2024-11-25/2024-12-01    1\n2024-12-02/2024-12-08    7\n2024-12-09/2024-12-15    2\nFreq: W-SUN, Name: customer_id, dtype: int64\n"
        }
      ],
      "execution_count": 129
    },
    {
      "id": "fa3b4802-821d-4a04-8ac9-d5d61efbdd26",
      "cell_type": "code",
      "source": "# Sign-ups by source, region, plan_selected\n\n# Counting how many customers have signed up by source, region and plan selected\nsignups_by_group = data.groupby(['source', 'region', 'plan_selected'])['customer_id'].count()\nprint(\"\\nSign-ups by source, region, and plan_selected:\\n\", signups_by_group)",
      "metadata": {
        "trusted": true
      },
      "outputs": [
        {
          "name": "stdout",
          "output_type": "stream",
          "text": "\nSign-ups by source, region, and plan_selected:\n source   region   plan_selected\n??       Central  Pro              1\n         East     Pro              1\n         South    Pro              1\n         West     Basic            1\n                  Premium          1\n                                  ..\nYouTube  South    Pro              2\n         West     Basic            1\n                  Nan              1\n                  Premium          5\n                  Pro              1\nName: customer_id, Length: 100, dtype: int64\n"
        }
      ],
      "execution_count": 130
    },
    {
      "id": "4a8f9ad8-ff3a-4b31-9a2d-b29fab081b7a",
      "cell_type": "code",
      "source": "# Marketing opt-in counts by gender\nopt_in_by_gender = data.groupby('gender')['marketing_opt_in'].value_counts()\nprint(\"\\nMarketing opt-in counts by gender:\\n\", opt_in_by_gender)",
      "metadata": {
        "trusted": true
      },
      "outputs": [
        {
          "name": "stdout",
          "output_type": "stream",
          "text": "\nMarketing opt-in counts by gender:\n gender      marketing_opt_in\n123         No                   3\n            Yes                  3\nFemale      No                  47\n            Yes                 44\n            Nan                  1\nMale        No                  50\n            Yes                 38\n            Nan                  3\n            Nil                  1\nNan         No                   4\n            Yes                  4\nNon-binary  No                  20\n            Yes                 19\n            Nan                  3\nOther       No                  32\n            Yes                 24\n            Nan                  3\nName: count, dtype: int64\n"
        }
      ],
      "execution_count": 131
    },
    {
      "id": "a8823a80-f691-49cf-aeb5-ca89fc545cfa",
      "cell_type": "code",
      "source": "# Age summary\n# Convert to numeric\nage_numeric = pd.to_numeric(data['age'], errors='coerce')  \n\nage_summary = age_numeric.agg(['min', 'max', 'mean', 'median'])\nage_null_count = age_numeric.isnull().sum()\n\nprint(\"\\nAge Summary:\\n\", age_summary)\nprint(\"Null count in age:\", age_null_count)",
      "metadata": {
        "trusted": true
      },
      "outputs": [
        {
          "name": "stdout",
          "output_type": "stream",
          "text": "\nAge Summary:\n min        21.000\nmax       206.000\nmean       36.175\nmedian     34.000\nName: age, dtype: float64\nNull count in age: 19\n"
        }
      ],
      "execution_count": 132
    },
    {
      "id": "1862ba01-e65f-4080-8a1c-1fb5c4a455ce",
      "cell_type": "code",
      "source": "",
      "metadata": {
        "trusted": true
      },
      "outputs": [],
      "execution_count": null
    }
  ]
}